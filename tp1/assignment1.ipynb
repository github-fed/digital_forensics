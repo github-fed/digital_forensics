{
 "cells": [
  {
   "cell_type": "code",
   "execution_count": 1,
   "metadata": {},
   "outputs": [],
   "source": [
    "import os\n",
    "import lpips\n",
    "import cv2\n",
    "import torch\n",
    "import numpy as np\n",
    "from PIL import Image\n",
    "import numpy as np\n",
    "from skimage.metrics import structural_similarity as ssim"
   ]
  },
  {
   "cell_type": "code",
   "execution_count": 3,
   "metadata": {},
   "outputs": [],
   "source": [
    "# Get the list of image files in the folder\n",
    "image_files = [\"256x256.png\", \"512x512.png\", \"1000x1000.png\", \"2000x2000.png\"]\n",
    "\n",
    "# Loop over each image and convert to grayscale\n",
    "for image_file in image_files:\n",
    "    # Open the image\n",
    "    img = Image.open(os.path.join('assets', image_file))\n",
    "\n",
    "    # Convert the image to grayscale\n",
    "    grayscale_img = img.convert(\"L\")  # 'L' mode stands for grayscale\n",
    "\n",
    "    # Save the grayscale image to the output folder\n",
    "    grayscale_img.save(os.path.join('assets', f\"grayscale_{image_file}\"))"
   ]
  },
  {
   "cell_type": "markdown",
   "metadata": {},
   "source": [
    "# Task 1"
   ]
  },
  {
   "cell_type": "code",
   "execution_count": 4,
   "metadata": {},
   "outputs": [],
   "source": [
    "grayscaled_images = [\"grayscale_256x256.png\", \"grayscale_512x512.png\", \"grayscale_1000x1000.png\", \"grayscale_2000x2000.png\"]\n",
    "for image_file in grayscaled_images:\n",
    "    # Open the PNG image\n",
    "    img = Image.open(f\"assets/{image_file}\")\n",
    "\n",
    "    # Convert to JPEG format and save with compression\n",
    "    img = img.convert(\"RGB\")\n",
    "    img.save(f\"assets/{image_file}_compressed_q85.jpg\", \"JPEG\", quality=85)  # 'quality' ranges from 1 (worst) to 95 (best)\n",
    "    img.save(f\"assets/{image_file}_compressed_q5.jpg\", \"JPEG\", quality=5)  # 'quality' ranges from 1 (worst) to 95 (best)"
   ]
  },
  {
   "cell_type": "markdown",
   "metadata": {},
   "source": [
    "# Task 2"
   ]
  },
  {
   "cell_type": "code",
   "execution_count": 5,
   "metadata": {},
   "outputs": [],
   "source": [
    "grayscaled_images = [\"grayscale_256x256.png\", \"grayscale_512x512.png\", \"grayscale_1000x1000.png\", \"grayscale_2000x2000.png\"]\n",
    "\n",
    "for image_file in grayscaled_images:\n",
    "    # Open the PNG image\n",
    "    img = Image.open(f\"assets/{image_file}\")\n",
    "    img = img.convert(\"RGB\")  # Convert to RGB format if necessary\n",
    "\n",
    "    # Convert image to numpy array\n",
    "    img_array = np.array(img)\n",
    "\n",
    "    for stddev in [25, 85]:\n",
    "        # Define Gaussian noise parameters\n",
    "        mean = 0\n",
    "\n",
    "        # Generate Gaussian noise\n",
    "        gaussian_noise = np.random.normal(mean, stddev, img_array.shape)\n",
    "\n",
    "        # Add the Gaussian noise to the image\n",
    "        noisy_img_array = img_array + gaussian_noise\n",
    "\n",
    "        # Ensure pixel values are within [0, 255] range\n",
    "        noisy_img_array = np.clip(noisy_img_array, 0, 255).astype(np.uint8)\n",
    "\n",
    "        # Convert back to a PIL image\n",
    "        noisy_img = Image.fromarray(noisy_img_array)\n",
    "\n",
    "        # Save the noisy image\n",
    "        noisy_img.save(f\"assets/gaussian{stddev}_{image_file}\")\n"
   ]
  },
  {
   "cell_type": "markdown",
   "metadata": {},
   "source": [
    "# Task 3"
   ]
  },
  {
   "cell_type": "code",
   "execution_count": null,
   "metadata": {},
   "outputs": [],
   "source": [
    "# Function to compute MSE between two images\n",
    "def mse(imageA, imageB):\n",
    "    # Compute the mean squared error\n",
    "    err = np.sum((imageA.astype(\"float\") - imageB.astype(\"float\")) ** 2)\n",
    "    err /= float(imageA.shape[0] * imageA.shape[1])\n",
    "    \n",
    "    return err\n",
    "\n",
    "# Load images (grayscale images)\n",
    "original = cv2.imread(\"assets/grayscale_256x256.png\", cv2.IMREAD_GRAYSCALE)\n",
    "original1 = cv2.imread(\"assets/grayscale_256x256.png\", cv2.IMREAD_GRAYSCALE)\n",
    "jpeg_compressed = cv2.imread(\"assets/grayscale_256x256.png_compressed_q85.jpg\", cv2.IMREAD_GRAYSCALE)\n",
    "gaussian_noise = cv2.imread(\"assets/gaussian85_grayscale_256x256.png\", cv2.IMREAD_GRAYSCALE)\n",
    "\n",
    "# Calculate MSE between the original and distorted images\n",
    "mse_test = mse(original, original1)\n",
    "mse_jpeg = mse(original, jpeg_compressed)\n",
    "mse_noise = mse(original, gaussian_noise)\n",
    "\n",
    "print(f\"MSE for image: {mse_test}\")\n",
    "print(f\"MSE for JPEG compressed image: {mse_jpeg}\")\n",
    "print(f\"MSE for image with Gaussian noise: {mse_noise}\")"
   ]
  },
  {
   "cell_type": "code",
   "execution_count": null,
   "metadata": {},
   "outputs": [],
   "source": [
    "# Function to compute PSNR\n",
    "def psnr(imageA, imageB):\n",
    "    mse_value = mse(imageA, imageB)\n",
    "    if mse_value == 0:\n",
    "        return float('inf')  # PSNR is infinite if MSE is zero (identical images)\n",
    "    max_pixel_value = 255.0\n",
    "    return 10 * np.log10((max_pixel_value ** 2) / mse_value)\n",
    "\n",
    "psnr_jpeg = psnr(original, jpeg_compressed)\n",
    "psnr_noise = psnr(original, gaussian_noise)\n",
    "print(f\"PSNR for JPEG compressed image: {psnr_jpeg} dB\")\n",
    "print(f\"PSNR for image with Gaussian noise: {psnr_noise} dB\")"
   ]
  },
  {
   "cell_type": "code",
   "execution_count": null,
   "metadata": {},
   "outputs": [],
   "source": [
    "ssim_jpeg = ssim(original, jpeg_compressed)\n",
    "ssim_noise = ssim(original, gaussian_noise)\n",
    "\n",
    "print(f\"SSIM for JPEG compressed image: {ssim_jpeg}\")\n",
    "print(f\"SSIM for image with Gaussian noise: {ssim_noise}\")"
   ]
  },
  {
   "cell_type": "code",
   "execution_count": null,
   "metadata": {},
   "outputs": [],
   "source": [
    "original = cv2.imread(\"assets/grayscale_256x256.png\", cv2.IMREAD_GRAYSCALE)\n",
    "original1 = cv2.imread(\"assets/grayscale_256x256.png\", cv2.IMREAD_GRAYSCALE)\n",
    "jpeg_compressed = cv2.imread(\"assets/grayscale_256x256.png_compressed_q85.jpg\", cv2.IMREAD_GRAYSCALE)\n",
    "gaussian_noise = cv2.imread(\"assets/gaussian85_grayscale_256x256.png\", cv2.IMREAD_GRAYSCALE)\n",
    "\n",
    "# Convert grayscale to RGB by repeating the channel and normalize\n",
    "original_rgb = cv2.cvtColor(original, cv2.COLOR_GRAY2RGB) / 255.0\n",
    "jpeg_compressed_rgb = cv2.cvtColor(jpeg_compressed, cv2.COLOR_GRAY2RGB) / 255.0\n",
    "gaussian_noise_rgb = cv2.cvtColor(gaussian_noise, cv2.COLOR_GRAY2RGB) / 255.0\n",
    "\n",
    "# Convert NumPy arrays to PyTorch tensors\n",
    "original_tensor = torch.from_numpy(original_rgb).permute(2, 0, 1).float()  # Shape: (C, H, W)\n",
    "jpeg_compressed_tensor = torch.from_numpy(jpeg_compressed_rgb).permute(2, 0, 1).float()\n",
    "gaussian_noise_tensor = torch.from_numpy(gaussian_noise_rgb).permute(2, 0, 1).float()\n",
    "\n",
    "lpips_model = lpips.LPIPS(net='vgg')\n",
    "\n",
    "# Calculate LPIPS\n",
    "lpips_jpeg = lpips_model(original_tensor.unsqueeze(0), jpeg_compressed_tensor.unsqueeze(0)).item()  # Add batch dimension\n",
    "lpips_noise = lpips_model(original_tensor.unsqueeze(0), gaussian_noise_tensor.unsqueeze(0)).item()\n",
    "\n",
    "print(f\"LPIPS for JPEG compressed image: {lpips_jpeg}\")\n",
    "print(f\"LPIPS for image with Gaussian noise: {lpips_noise}\")"
   ]
  }
 ],
 "metadata": {
  "kernelspec": {
   "display_name": "df-p3ghjSHb-py3.12",
   "language": "python",
   "name": "python3"
  },
  "language_info": {
   "codemirror_mode": {
    "name": "ipython",
    "version": 3
   },
   "file_extension": ".py",
   "mimetype": "text/x-python",
   "name": "python",
   "nbconvert_exporter": "python",
   "pygments_lexer": "ipython3",
   "version": "3.12.6"
  }
 },
 "nbformat": 4,
 "nbformat_minor": 2
}
